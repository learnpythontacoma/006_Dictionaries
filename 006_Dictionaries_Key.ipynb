{
 "cells": [
  {
   "cell_type": "markdown",
   "metadata": {},
   "source": [
    "<img src='graphics/dictionary-390055_640.jpg'>\n",
    "\n",
    "\n",
    "# Lesson 006 - Dictionaries\n",
    "\n",
    "# What is a dictionary?\n",
    "\n",
    "Dictionaries in Python is a data type that lets us organize data as *key-value pairs*. Each *key* is connected to a *value* and you can use a key to access the value associated with that *key*. Is that confusing enough yet? Let's make it easier.\n",
    "\n",
    "A *key-value* pair is a means to store data where a key is given to a value in order to recall that value. Every key is connected to a value in a dictionary, and these are separated by a colon, with every individual key-value pair being separated in a dictionary by a comma. \n",
    "\n",
    "Let's look at the example below. "
   ]
  },
  {
   "cell_type": "code",
   "execution_count": 2,
   "metadata": {
    "ExecuteTime": {
     "end_time": "2019-10-13T21:51:57.791789Z",
     "start_time": "2019-10-13T21:51:57.789242Z"
    }
   },
   "outputs": [],
   "source": [
    "capitals = {'USA': 'Washington DC', 'Germany': 'Berlin', 'France': 'Paris', 'China': 'Beijing'}"
   ]
  },
  {
   "cell_type": "markdown",
   "metadata": {},
   "source": [
    "Notice in our example of a dictionary called `capitals`:\n",
    "1. Curly brackets are used in Python to designate a dictionary.\n",
    "1. Within the dictionary, there are two values separated by a colon (:).\n",
    "1. The first value in front of each colon is the *key*.\n",
    "1. The second value following each colon is the *value* associated with that *key*.\n",
    "1. Several key-value pairs are in the dictionary `capitals`, and these pairs are separated by commas.\n",
    "1. You can store as many *key-value* pairs as you would like in a dictionary.\n",
    "\n",
    "In a dictionary, the *key-value* pairs may be in any order. As long as the same *key-value* pairs are in a dictionary when comparing two dictionaries, Python will still see these dissimilarly ordered dictionaries as being equal. That's different from lists or tuples where items are ordered and the order matters.\n",
    "\n",
    "Take a look at the two dictionaries in the next code block. You will see that the order of the *key-value* pairs are different, but both dictionaries contain the same pairs. \n",
    "\n",
    "Go ahead and run the code to see Python's answer to the question of whether these two dictionaries are the same. If they are, Python will return a value of `True`. "
   ]
  },
  {
   "cell_type": "code",
   "execution_count": 3,
   "metadata": {
    "ExecuteTime": {
     "end_time": "2019-10-13T21:51:57.805709Z",
     "start_time": "2019-10-13T21:51:57.793911Z"
    }
   },
   "outputs": [
    {
     "data": {
      "text/plain": [
       "True"
      ]
     },
     "execution_count": 3,
     "metadata": {},
     "output_type": "execute_result"
    }
   ],
   "source": [
    "capitals = {'USA': 'Washington DC', 'Germany': 'Berlin', 'France': 'Paris', 'China': 'Beijing'}\n",
    "capitals_1 = {'Germany': 'Berlin', 'USA': 'Washington DC', 'France': 'Paris', 'China': 'Beijing'}\n",
    "capitals == capitals_1"
   ]
  },
  {
   "cell_type": "markdown",
   "metadata": {},
   "source": [
    "If you are a little confused at this point, then consider yourself normal. Understanding and using dictionaries will take practice with dictionaries. \n",
    "\n",
    "# When Would You Use a Dictionary?\n",
    "\n",
    "You would use a dictionary when you want to keep track of information based upon a key that has a similar value. \n",
    "\n",
    "Take a look at the next example of four dictionaries."
   ]
  },
  {
   "cell_type": "code",
   "execution_count": 4,
   "metadata": {
    "ExecuteTime": {
     "end_time": "2019-10-13T21:51:57.814660Z",
     "start_time": "2019-10-13T21:51:57.807952Z"
    }
   },
   "outputs": [
    {
     "name": "stdout",
     "output_type": "stream",
     "text": [
      "name : Bob\n",
      "age : 28\n",
      "gender : male\n",
      "partner : Carol\n",
      "\n",
      "\n",
      "name : Carol\n",
      "age : 26\n",
      "gender : female\n",
      "partner : Bob\n",
      "\n",
      "\n",
      "name : Ted\n",
      "age : 29\n",
      "gender : male\n",
      "partner : Alice\n",
      "\n",
      "\n",
      "name : Alice\n",
      "age : 28\n",
      "gender : male\n",
      "partner : Ted\n",
      "\n",
      "\n"
     ]
    }
   ],
   "source": [
    "bob_dict = {'name':'Bob', 'age': 28, 'gender': 'male', 'partner': 'Carol'}\n",
    "carol_dict = {'name':'Carol', 'age': 26, 'gender': 'female', 'partner': 'Bob'}\n",
    "ted_dict = {'name':'Ted', 'age': 29, 'gender': 'male', 'partner': 'Alice'}\n",
    "alice_dict = {'name':'Alice', 'age': 28, 'gender': 'male', 'partner': 'Ted'}\n",
    "\n",
    "friends = [bob_dict, carol_dict, ted_dict, alice_dict] #<-- Notice the list of dictionaries\n",
    "\n",
    "for a in friends:\n",
    "    for key, value in a.items():\n",
    "        print(key, ':', value)\n",
    "    print('\\n')"
   ]
  },
  {
   "cell_type": "markdown",
   "metadata": {},
   "source": [
    "# Accessing Values in a Dictionary\n",
    "\n",
    "How do we access values in a list? We use a number (in square brackets) as our index. For example: "
   ]
  },
  {
   "cell_type": "code",
   "execution_count": 5,
   "metadata": {
    "ExecuteTime": {
     "end_time": "2019-10-13T21:51:57.820281Z",
     "start_time": "2019-10-13T21:51:57.817208Z"
    }
   },
   "outputs": [
    {
     "name": "stdout",
     "output_type": "stream",
     "text": [
      "dog\n"
     ]
    }
   ],
   "source": [
    "animals = ['cat', 'dog', 'elephant']\n",
    "my_animal = animals[1]\n",
    "print(my_animal)"
   ]
  },
  {
   "cell_type": "markdown",
   "metadata": {},
   "source": [
    "With dictionaries we can use strings to access values. Let's look at the syntax below. "
   ]
  },
  {
   "cell_type": "code",
   "execution_count": 6,
   "metadata": {
    "ExecuteTime": {
     "end_time": "2019-10-13T21:51:57.825300Z",
     "start_time": "2019-10-13T21:51:57.822260Z"
    }
   },
   "outputs": [
    {
     "name": "stdout",
     "output_type": "stream",
     "text": [
      "Kristina\n"
     ]
    }
   ],
   "source": [
    "my_cat = {'name': 'Kristina', 'age': 3, 'color': 'black'}\n",
    "cat_name = my_cat['name']\n",
    "print(cat_name)"
   ]
  },
  {
   "cell_type": "markdown",
   "metadata": {},
   "source": [
    "Key-value pairs is what gives dictionaries the advantage over lists. If you need to access a specific item and you don't know the order of the items, you can simply use its name to call out the value."
   ]
  },
  {
   "cell_type": "markdown",
   "metadata": {},
   "source": [
    "But if the order of the items is important, that's where you would use lists. "
   ]
  },
  {
   "cell_type": "markdown",
   "metadata": {},
   "source": [
    "## Exercise 1"
   ]
  },
  {
   "cell_type": "markdown",
   "metadata": {},
   "source": [
    "Here is a dictionary of cities and their populations. Store the population of Washington DC in a variable and print it out."
   ]
  },
  {
   "cell_type": "code",
   "execution_count": 7,
   "metadata": {
    "ExecuteTime": {
     "end_time": "2019-10-13T21:51:57.830336Z",
     "start_time": "2019-10-13T21:51:57.827303Z"
    },
    "hide_input": false,
    "scrolled": true
   },
   "outputs": [
    {
     "name": "stdout",
     "output_type": "stream",
     "text": [
      "702455\n"
     ]
    }
   ],
   "source": [
    "cities = {'New York': 8398748, 'Los Angeles': 3990456, 'Chicago': 2705994, 'Washington DC': 702455, 'Boston': 694583}\n",
    "variable = cities['Washington DC']\n",
    "print(variable)"
   ]
  },
  {
   "cell_type": "markdown",
   "metadata": {},
   "source": [
    "# Adding Values to a Dictionary"
   ]
  },
  {
   "cell_type": "markdown",
   "metadata": {},
   "source": [
    "To add a key-value pair to a dictionary, you tell Python the name of the key and the value it should have. If the key is already there, it will replace the existing value. If the key is not yet there, it will add a brand-new key-value pair to the dictionary."
   ]
  },
  {
   "cell_type": "code",
   "execution_count": 8,
   "metadata": {
    "ExecuteTime": {
     "end_time": "2019-10-13T21:51:57.836779Z",
     "start_time": "2019-10-13T21:51:57.833476Z"
    }
   },
   "outputs": [
    {
     "name": "stdout",
     "output_type": "stream",
     "text": [
      "{'name': 'Kristina', 'age': 4, 'color': 'black'}\n"
     ]
    }
   ],
   "source": [
    "my_cat = {'name': 'Kristina', 'age': 3, 'color': 'black'}\n",
    "my_cat['age'] = 4\n",
    "print (my_cat)"
   ]
  },
  {
   "cell_type": "code",
   "execution_count": 9,
   "metadata": {
    "ExecuteTime": {
     "end_time": "2019-10-13T21:51:57.843732Z",
     "start_time": "2019-10-13T21:51:57.839673Z"
    }
   },
   "outputs": [
    {
     "name": "stdout",
     "output_type": "stream",
     "text": [
      "{'name': 'Kristina', 'age': 3, 'color': 'black', 'disposition': 'friendly'}\n"
     ]
    }
   ],
   "source": [
    "my_cat = {'name': 'Kristina', 'age': 3, 'color': 'black'}\n",
    "my_cat['disposition'] = 'friendly'\n",
    "print (my_cat)"
   ]
  },
  {
   "cell_type": "markdown",
   "metadata": {},
   "source": [
    "## Exercise 2\n",
    "\n",
    "Starting out with an empty dictionary, add your first and last names to it. Create another dictionary with your friend's first and last names. Then, create a list of your dictionaries (Remember, you can store any values inside lists, even dictionaries). Print out your list."
   ]
  },
  {
   "cell_type": "code",
   "execution_count": 1,
   "metadata": {
    "ExecuteTime": {
     "end_time": "2019-10-14T20:27:20.919346Z",
     "start_time": "2019-10-14T20:27:20.914661Z"
    },
    "hide_input": false,
    "scrolled": true
   },
   "outputs": [
    {
     "name": "stdout",
     "output_type": "stream",
     "text": [
      "{'first': 'Herman', 'last': 'Munster'}\n",
      "{'first': 'Snow', 'last': 'White'}\n",
      "[{'first': 'Herman', 'last': 'Munster'}, {'first': 'Snow', 'last': 'White'}]\n"
     ]
    }
   ],
   "source": [
    "#Method 1\n",
    "\n",
    "person1 = {}\n",
    "#Add your first name as a value to a key 'first'\n",
    "person1['first'] = 'Herman'\n",
    "\n",
    "#Add your last name as a value to a key 'last'\n",
    "person1['last'] = 'Munster'\n",
    "\n",
    "print(person1)\n",
    "\n",
    "person2 = {}\n",
    "#Add your friend's first name as a value to a key 'first'\n",
    "person2['first'] = 'Snow'\n",
    "\n",
    "#Add your friend's last name as a value to a key 'last' \n",
    "person2['last'] = 'White'\n",
    "\n",
    "print(person2)\n",
    "\n",
    "#Create a list with your dictionaries. \n",
    "friends = [person1, person2]\n",
    "\n",
    "print(friends)\n"
   ]
  },
  {
   "cell_type": "markdown",
   "metadata": {},
   "source": [
    "Add another person to your company of friends."
   ]
  },
  {
   "cell_type": "code",
   "execution_count": 11,
   "metadata": {
    "ExecuteTime": {
     "end_time": "2019-10-13T21:52:02.643340Z",
     "start_time": "2019-10-13T21:52:02.639741Z"
    },
    "hide_input": false,
    "scrolled": false
   },
   "outputs": [
    {
     "name": "stdout",
     "output_type": "stream",
     "text": [
      "[{'first': 'Herman', 'last': 'Munster'}, {'first': 'Snow', 'last': 'White'}, {'first_name': 'Robin', 'last_name': 'Hood'}]\n"
     ]
    }
   ],
   "source": [
    "#Use .append method to add items to your list.\n",
    "friends.append({'first_name': 'Robin', 'last_name': 'Hood'})\n",
    "\n",
    "print(friends)"
   ]
  },
  {
   "cell_type": "markdown",
   "metadata": {},
   "source": [
    "# The keys(), values(), and items() Methods"
   ]
  },
  {
   "cell_type": "markdown",
   "metadata": {},
   "source": [
    "Depending on what information in a dictionary you'd like to access, use any of these three methods: keys(), values(), items()."
   ]
  },
  {
   "cell_type": "code",
   "execution_count": 13,
   "metadata": {},
   "outputs": [
    {
     "name": "stdout",
     "output_type": "stream",
     "text": [
      "Russia\n",
      "Spain\n",
      "Germany\n"
     ]
    }
   ],
   "source": [
    "countries = {'Russia': 'Russian', 'Spain': 'Spanish', 'Germany': 'German'}\n",
    "for c in countries.keys():\n",
    "    print(c)"
   ]
  },
  {
   "cell_type": "code",
   "execution_count": 12,
   "metadata": {},
   "outputs": [
    {
     "name": "stdout",
     "output_type": "stream",
     "text": [
      "Russian\n",
      "Spanish\n",
      "German\n"
     ]
    }
   ],
   "source": [
    "countries = {'Russia': 'Russian', 'Spain': 'Spanish', 'Germany': 'German'}\n",
    "for c in countries.values():\n",
    "    print(c)"
   ]
  },
  {
   "cell_type": "code",
   "execution_count": 14,
   "metadata": {},
   "outputs": [
    {
     "name": "stdout",
     "output_type": "stream",
     "text": [
      "('Russia', 'Russian')\n",
      "('Spain', 'Spanish')\n",
      "('Germany', 'German')\n"
     ]
    }
   ],
   "source": [
    "countries = {'Russia': 'Russian', 'Spain': 'Spanish', 'Germany': 'German'}\n",
    "for c in countries.items():\n",
    "    print(c)"
   ]
  },
  {
   "cell_type": "markdown",
   "metadata": {},
   "source": [
    "# Preparing to Put It All Together\n",
    "\n",
    "## Exercise 3\n",
    "\n",
    "1. Create your own dictionary with the names of countries as keys and languages spoken there as values. \n",
    "1. Ask a user to enter a country (hint: use input() function). \n",
    "1. If the country is in the dictionary, print 'They speak ' + language + ' in' + country. \n",
    "1. If the country is not in the dictionary, print a message: 'The information is not available.'"
   ]
  },
  {
   "cell_type": "code",
   "execution_count": 12,
   "metadata": {
    "ExecuteTime": {
     "end_time": "2019-10-13T22:19:02.351175Z",
     "start_time": "2019-10-13T22:18:56.069639Z"
    },
    "hide_input": false,
    "scrolled": false
   },
   "outputs": [
    {
     "name": "stdout",
     "output_type": "stream",
     "text": [
      "Enter a country: Germany\n",
      "They speak German in Germany\n"
     ]
    }
   ],
   "source": [
    "countries = {'Russia': 'Russian', 'Spain': 'Spanish', 'Germany': 'German'}\n",
    "country = input('Enter a country: ')\n",
    "if country in countries: \n",
    "    print ('They speak ' + countries[country] + ' in ' + country)\n",
    "else:\n",
    "    print ('The information is not available')\n"
   ]
  },
  {
   "cell_type": "markdown",
   "metadata": {},
   "source": [
    "Continue with the code you wrote above. If the country is not in the dictionary, ask the user what language people speak there. Then, update the dictionary with this new information."
   ]
  },
  {
   "cell_type": "code",
   "execution_count": 15,
   "metadata": {
    "ExecuteTime": {
     "end_time": "2019-10-13T22:51:17.782828Z",
     "start_time": "2019-10-13T22:51:03.072613Z"
    },
    "hide_input": false,
    "scrolled": true
   },
   "outputs": [
    {
     "name": "stdout",
     "output_type": "stream",
     "text": [
      "Enter a country: France\n",
      "The information is not available. \n",
      "\n",
      "What language do they speak in France?\n",
      "G'Utier\n",
      "\n",
      "The list of countries have been updated: \n",
      " {'Russia': 'Russian', 'Spain': 'Spanish', 'Germany': 'German', 'France': \"G'Utier\"}\n"
     ]
    }
   ],
   "source": [
    "countries = {'Russia': 'Russian', 'Spain': 'Spanish', 'Germany': 'German'}\n",
    "country = input('Enter a country: ')\n",
    "if country in countries: \n",
    "    print ('They speak ' + countries[country] + ' in ' + country)\n",
    "else:\n",
    "    print ('The information is not available. \\n')\n",
    "    print('What language do they speak in ' + country + '?')\n",
    "    countries[country] = input()\n",
    "    print ('\\nThe list of countries have been updated: \\n',countries )\n"
   ]
  },
  {
   "cell_type": "markdown",
   "metadata": {},
   "source": [
    "# Now Let's Put It All Together\n",
    "\n",
    "## Exercise 4\n",
    "\n",
    "In our last meet-up, we produced our first game, \"The Guessing Game\". Here is a key code sample for that game. "
   ]
  },
  {
   "cell_type": "code",
   "execution_count": 19,
   "metadata": {
    "ExecuteTime": {
     "end_time": "2019-10-13T23:07:40.114924Z",
     "start_time": "2019-10-13T23:07:15.992331Z"
    }
   },
   "outputs": [
    {
     "name": "stdout",
     "output_type": "stream",
     "text": [
      "Well, Hello! What is your name? b\n",
      "\n",
      "I am excited to play \"The Guessing Game\". I will think of a random number between 1-10,\n",
      "then I will give you three tries to guess the number. To be fair, I will tell you if\n",
      "the number you guessed is higher or lower than the number of which I am thinking.\n",
      " \n",
      "b, would you like to play \"The Guessing Game\"? yes or no yes\n",
      "\n",
      "Go ahead, b and guess a number. \n",
      "3\n",
      "Good try, b, but you are too low.\n",
      "\n",
      "\n",
      "Go ahead, b and guess a number. \n",
      "3\n",
      "Good try, b, but you are too low.\n",
      "\n",
      "\n",
      "Go ahead, b and guess a number. \n",
      "3\n",
      "Good try, b, but you are too low.\n",
      "\n",
      "I'm sorry, b. You didn't get it.\n",
      " \n",
      "The number I was thinking of was 4.\n",
      "\n"
     ]
    },
    {
     "ename": "KeyboardInterrupt",
     "evalue": "",
     "output_type": "error",
     "traceback": [
      "\u001b[0;31m---------------------------------------------------------------------------\u001b[0m",
      "\u001b[0;31mKeyboardInterrupt\u001b[0m                         Traceback (most recent call last)",
      "\u001b[0;32m~/anaconda3/lib/python3.7/site-packages/ipykernel/kernelbase.py\u001b[0m in \u001b[0;36m_input_request\u001b[0;34m(self, prompt, ident, parent, password)\u001b[0m\n\u001b[1;32m    884\u001b[0m             \u001b[0;32mtry\u001b[0m\u001b[0;34m:\u001b[0m\u001b[0;34m\u001b[0m\u001b[0;34m\u001b[0m\u001b[0m\n\u001b[0;32m--> 885\u001b[0;31m                 \u001b[0mident\u001b[0m\u001b[0;34m,\u001b[0m \u001b[0mreply\u001b[0m \u001b[0;34m=\u001b[0m \u001b[0mself\u001b[0m\u001b[0;34m.\u001b[0m\u001b[0msession\u001b[0m\u001b[0;34m.\u001b[0m\u001b[0mrecv\u001b[0m\u001b[0;34m(\u001b[0m\u001b[0mself\u001b[0m\u001b[0;34m.\u001b[0m\u001b[0mstdin_socket\u001b[0m\u001b[0;34m,\u001b[0m \u001b[0;36m0\u001b[0m\u001b[0;34m)\u001b[0m\u001b[0;34m\u001b[0m\u001b[0;34m\u001b[0m\u001b[0m\n\u001b[0m\u001b[1;32m    886\u001b[0m             \u001b[0;32mexcept\u001b[0m \u001b[0mException\u001b[0m\u001b[0;34m:\u001b[0m\u001b[0;34m\u001b[0m\u001b[0;34m\u001b[0m\u001b[0m\n",
      "\u001b[0;32m~/anaconda3/lib/python3.7/site-packages/jupyter_client/session.py\u001b[0m in \u001b[0;36mrecv\u001b[0;34m(self, socket, mode, content, copy)\u001b[0m\n\u001b[1;32m    802\u001b[0m         \u001b[0;32mtry\u001b[0m\u001b[0;34m:\u001b[0m\u001b[0;34m\u001b[0m\u001b[0;34m\u001b[0m\u001b[0m\n\u001b[0;32m--> 803\u001b[0;31m             \u001b[0mmsg_list\u001b[0m \u001b[0;34m=\u001b[0m \u001b[0msocket\u001b[0m\u001b[0;34m.\u001b[0m\u001b[0mrecv_multipart\u001b[0m\u001b[0;34m(\u001b[0m\u001b[0mmode\u001b[0m\u001b[0;34m,\u001b[0m \u001b[0mcopy\u001b[0m\u001b[0;34m=\u001b[0m\u001b[0mcopy\u001b[0m\u001b[0;34m)\u001b[0m\u001b[0;34m\u001b[0m\u001b[0;34m\u001b[0m\u001b[0m\n\u001b[0m\u001b[1;32m    804\u001b[0m         \u001b[0;32mexcept\u001b[0m \u001b[0mzmq\u001b[0m\u001b[0;34m.\u001b[0m\u001b[0mZMQError\u001b[0m \u001b[0;32mas\u001b[0m \u001b[0me\u001b[0m\u001b[0;34m:\u001b[0m\u001b[0;34m\u001b[0m\u001b[0;34m\u001b[0m\u001b[0m\n",
      "\u001b[0;32m~/anaconda3/lib/python3.7/site-packages/zmq/sugar/socket.py\u001b[0m in \u001b[0;36mrecv_multipart\u001b[0;34m(self, flags, copy, track)\u001b[0m\n\u001b[1;32m    474\u001b[0m         \"\"\"\n\u001b[0;32m--> 475\u001b[0;31m         \u001b[0mparts\u001b[0m \u001b[0;34m=\u001b[0m \u001b[0;34m[\u001b[0m\u001b[0mself\u001b[0m\u001b[0;34m.\u001b[0m\u001b[0mrecv\u001b[0m\u001b[0;34m(\u001b[0m\u001b[0mflags\u001b[0m\u001b[0;34m,\u001b[0m \u001b[0mcopy\u001b[0m\u001b[0;34m=\u001b[0m\u001b[0mcopy\u001b[0m\u001b[0;34m,\u001b[0m \u001b[0mtrack\u001b[0m\u001b[0;34m=\u001b[0m\u001b[0mtrack\u001b[0m\u001b[0;34m)\u001b[0m\u001b[0;34m]\u001b[0m\u001b[0;34m\u001b[0m\u001b[0;34m\u001b[0m\u001b[0m\n\u001b[0m\u001b[1;32m    476\u001b[0m         \u001b[0;31m# have first part already, only loop while more to receive\u001b[0m\u001b[0;34m\u001b[0m\u001b[0;34m\u001b[0m\u001b[0;34m\u001b[0m\u001b[0m\n",
      "\u001b[0;32mzmq/backend/cython/socket.pyx\u001b[0m in \u001b[0;36mzmq.backend.cython.socket.Socket.recv\u001b[0;34m()\u001b[0m\n",
      "\u001b[0;32mzmq/backend/cython/socket.pyx\u001b[0m in \u001b[0;36mzmq.backend.cython.socket.Socket.recv\u001b[0;34m()\u001b[0m\n",
      "\u001b[0;32mzmq/backend/cython/socket.pyx\u001b[0m in \u001b[0;36mzmq.backend.cython.socket._recv_copy\u001b[0;34m()\u001b[0m\n",
      "\u001b[0;32m~/anaconda3/lib/python3.7/site-packages/zmq/backend/cython/checkrc.pxd\u001b[0m in \u001b[0;36mzmq.backend.cython.checkrc._check_rc\u001b[0;34m()\u001b[0m\n",
      "\u001b[0;31mKeyboardInterrupt\u001b[0m: ",
      "\nDuring handling of the above exception, another exception occurred:\n",
      "\u001b[0;31mKeyboardInterrupt\u001b[0m                         Traceback (most recent call last)",
      "\u001b[0;32m<ipython-input-19-48b6539545cd>\u001b[0m in \u001b[0;36m<module>\u001b[0;34m\u001b[0m\n\u001b[1;32m     35\u001b[0m \u001b[0;34m\u001b[0m\u001b[0m\n\u001b[1;32m     36\u001b[0m     \u001b[0mprint\u001b[0m\u001b[0;34m(\u001b[0m\u001b[0;34m'The number I was thinking of was '\u001b[0m\u001b[0;34m+\u001b[0m \u001b[0mstr\u001b[0m\u001b[0;34m(\u001b[0m\u001b[0mrandom_number\u001b[0m\u001b[0;34m)\u001b[0m \u001b[0;34m+\u001b[0m \u001b[0;34m\".\\n\"\u001b[0m\u001b[0;34m)\u001b[0m\u001b[0;34m\u001b[0m\u001b[0;34m\u001b[0m\u001b[0m\n\u001b[0;32m---> 37\u001b[0;31m     \u001b[0mplay_again\u001b[0m \u001b[0;34m=\u001b[0m \u001b[0minput\u001b[0m\u001b[0;34m(\u001b[0m\u001b[0muser_name\u001b[0m \u001b[0;34m+\u001b[0m \u001b[0;34m', would you like to play again? '\u001b[0m\u001b[0;34m)\u001b[0m\u001b[0;34m\u001b[0m\u001b[0;34m\u001b[0m\u001b[0m\n\u001b[0m\u001b[1;32m     38\u001b[0m     \u001b[0mrandom_number\u001b[0m \u001b[0;34m=\u001b[0m \u001b[0mrandom\u001b[0m\u001b[0;34m.\u001b[0m\u001b[0mrandint\u001b[0m\u001b[0;34m(\u001b[0m\u001b[0;36m1\u001b[0m\u001b[0;34m,\u001b[0m \u001b[0;36m10\u001b[0m\u001b[0;34m)\u001b[0m\u001b[0;34m\u001b[0m\u001b[0;34m\u001b[0m\u001b[0m\n\u001b[1;32m     39\u001b[0m \u001b[0;34m\u001b[0m\u001b[0m\n",
      "\u001b[0;32m~/anaconda3/lib/python3.7/site-packages/ipykernel/kernelbase.py\u001b[0m in \u001b[0;36mraw_input\u001b[0;34m(self, prompt)\u001b[0m\n\u001b[1;32m    858\u001b[0m             \u001b[0mself\u001b[0m\u001b[0;34m.\u001b[0m\u001b[0m_parent_ident\u001b[0m\u001b[0;34m,\u001b[0m\u001b[0;34m\u001b[0m\u001b[0;34m\u001b[0m\u001b[0m\n\u001b[1;32m    859\u001b[0m             \u001b[0mself\u001b[0m\u001b[0;34m.\u001b[0m\u001b[0m_parent_header\u001b[0m\u001b[0;34m,\u001b[0m\u001b[0;34m\u001b[0m\u001b[0;34m\u001b[0m\u001b[0m\n\u001b[0;32m--> 860\u001b[0;31m             \u001b[0mpassword\u001b[0m\u001b[0;34m=\u001b[0m\u001b[0;32mFalse\u001b[0m\u001b[0;34m,\u001b[0m\u001b[0;34m\u001b[0m\u001b[0;34m\u001b[0m\u001b[0m\n\u001b[0m\u001b[1;32m    861\u001b[0m         )\n\u001b[1;32m    862\u001b[0m \u001b[0;34m\u001b[0m\u001b[0m\n",
      "\u001b[0;32m~/anaconda3/lib/python3.7/site-packages/ipykernel/kernelbase.py\u001b[0m in \u001b[0;36m_input_request\u001b[0;34m(self, prompt, ident, parent, password)\u001b[0m\n\u001b[1;32m    888\u001b[0m             \u001b[0;32mexcept\u001b[0m \u001b[0mKeyboardInterrupt\u001b[0m\u001b[0;34m:\u001b[0m\u001b[0;34m\u001b[0m\u001b[0;34m\u001b[0m\u001b[0m\n\u001b[1;32m    889\u001b[0m                 \u001b[0;31m# re-raise KeyboardInterrupt, to truncate traceback\u001b[0m\u001b[0;34m\u001b[0m\u001b[0;34m\u001b[0m\u001b[0;34m\u001b[0m\u001b[0m\n\u001b[0;32m--> 890\u001b[0;31m                 \u001b[0;32mraise\u001b[0m \u001b[0mKeyboardInterrupt\u001b[0m\u001b[0;34m\u001b[0m\u001b[0;34m\u001b[0m\u001b[0m\n\u001b[0m\u001b[1;32m    891\u001b[0m             \u001b[0;32melse\u001b[0m\u001b[0;34m:\u001b[0m\u001b[0;34m\u001b[0m\u001b[0;34m\u001b[0m\u001b[0m\n\u001b[1;32m    892\u001b[0m                 \u001b[0;32mbreak\u001b[0m\u001b[0;34m\u001b[0m\u001b[0;34m\u001b[0m\u001b[0m\n",
      "\u001b[0;31mKeyboardInterrupt\u001b[0m: "
     ]
    }
   ],
   "source": [
    "import random\n",
    "\n",
    "user_name = input('Well, Hello! What is your name? ')\n",
    "print('\\nI am excited to play \"The Guessing Game\". I will think of a random number between 1-10,')\n",
    "print('then I will give you three tries to guess the number. To be fair, I will tell you if')\n",
    "print('the number you guessed is higher or lower than the number of which I am thinking.\\n ')\n",
    "\n",
    "play_again = input(user_name +', would you like to play \"The Guessing Game\"? yes or no ')\n",
    "\n",
    "random_number = random.randint(1, 10)\n",
    "\n",
    "\n",
    "while play_again == 'yes' or play_again == 'Yes':\n",
    "    number_of_tries = 0\n",
    "\n",
    "    while number_of_tries < 3:\n",
    "        user_guess = input('\\nGo ahead, ' + user_name + ' and guess a number. \\n')\n",
    "        user_guess = int(user_guess)\n",
    "        \n",
    "        if user_guess < random_number:\n",
    "            print('Good try, ' + user_name + ', but you are too low.\\n')\n",
    "            number_of_tries += 1\n",
    "        elif user_guess > random_number:\n",
    "            print('Good try, ' + user_name + ', but you are too high.\\n')\n",
    "            number_of_tries += 1\n",
    "        elif user_guess == random_number:\n",
    "            print('PERFECT, '+ user_name + '! You guessed it. \\n')\n",
    "            number_of_tries += 1\n",
    "            break\n",
    "            \n",
    "        if number_of_tries == 3: \n",
    "            print(\"I'm sorry, \" + user_name + \". You didn't get it.\\n \")\n",
    "            break\n",
    "            \n",
    "        \n",
    "    print('The number I was thinking of was '+ str(random_number) + \".\\n\")\n",
    "    play_again = input(user_name + ', would you like to play again? ')\n",
    "    random_number = random.randint(1, 10)\n",
    "\n",
    "print('\\nThank you, '+ user_name +'. It was a pleasure to meet you.' )"
   ]
  },
  {
   "cell_type": "markdown",
   "metadata": {},
   "source": [
    "From what we have learned of dictionaries, we are going to expand our game. \n",
    "\n",
    "In the next block, write the code for the game AND\n",
    "1. Add the person's name to a dictionary\n",
    "1. Use a dictionary to keep track of how many times the person has played the game\n",
    "1. Use a dictionary to keep track of the person's score for each game\n",
    "1. After the person has decided to quit playing, return that information to them"
   ]
  },
  {
   "cell_type": "code",
   "execution_count": 16,
   "metadata": {
    "ExecuteTime": {
     "end_time": "2019-10-13T22:54:39.159115Z",
     "start_time": "2019-10-13T22:54:39.155174Z"
    }
   },
   "outputs": [
    {
     "name": "stdout",
     "output_type": "stream",
     "text": [
      "{'game_1': 1, 'game_2': 2, 'game_3': 3}\n",
      "3\n"
     ]
    }
   ],
   "source": [
    "#Run this code after looking at it. It may help you.\n",
    "\n",
    "trial = {}\n",
    "\n",
    "for num in range(1,4):\n",
    "    trial['game_'+str(num)] = num\n",
    "print(trial)   \n",
    "print(len(trial))"
   ]
  },
  {
   "cell_type": "code",
   "execution_count": 77,
   "metadata": {
    "ExecuteTime": {
     "end_time": "2019-10-07T23:37:03.121507Z",
     "start_time": "2019-10-07T23:36:40.814790Z"
    },
    "hide_input": true,
    "scrolled": false
   },
   "outputs": [
    {
     "name": "stdout",
     "output_type": "stream",
     "text": [
      "Well, Hello! What is your name? ben\n",
      "\n",
      "I am excited to play \"The Guessing Game\". I will think of a random number between 1-10,\n",
      "then I will give you three tries to guess the number. To be fair, I will tell you if\n",
      "the number you guessed is higher or lower than the number of which I am thinking.\n",
      " \n",
      "ben, would you like to play \"The Guessing Game\"? yes or no yes\n",
      "\n",
      "Go ahead, ben and guess a number. \n",
      "5\n",
      "Good try, ben, but you are too high.\n",
      "\n",
      "\n",
      "Go ahead, ben and guess a number. \n",
      "4\n",
      "Good try, ben, but you are too high.\n",
      "\n",
      "\n",
      "Go ahead, ben and guess a number. \n",
      "3\n",
      "Good try, ben, but you are too high.\n",
      "\n",
      "The number I was thinking of was 1.\n",
      "\n",
      "ben, would you like to play again? yes\n",
      "\n",
      "Go ahead, ben and guess a number. \n",
      "4\n",
      "Good try, ben, but you are too high.\n",
      "\n",
      "\n",
      "Go ahead, ben and guess a number. \n",
      "2\n",
      "PERFECT, ben! You guessed it. \n",
      "\n",
      "The number I was thinking of was 2.\n",
      "\n",
      "ben, would you like to play again? yes\n",
      "\n",
      "Go ahead, ben and guess a number. \n",
      "6\n",
      "PERFECT, ben! You guessed it. \n",
      "\n",
      "The number I was thinking of was 6.\n",
      "\n",
      "ben, would you like to play again? 6\n",
      "\n",
      "Thank you, ben. It was a pleasure to meet you.\n",
      "You played the game 3 times.\n",
      "Your score in game 0 was  3 .\n",
      "Your score in game 1 was  1 .\n",
      "Your score in game 2 was  0 .\n"
     ]
    }
   ],
   "source": [
    "import random\n",
    "\n",
    "stats = {}\n",
    "game_times = {}\n",
    "\n",
    "stats['name'] = input('Well, Hello! What is your name? ')\n",
    "print('\\nI am excited to play \"The Guessing Game\". I will think of a random number between 1-10,')\n",
    "print('then I will give you three tries to guess the number. To be fair, I will tell you if')\n",
    "print('the number you guessed is higher or lower than the number of which I am thinking.\\n ')\n",
    "\n",
    "play_again = input(stats['name'] +', would you like to play \"The Guessing Game\"? yes or no ')\n",
    "\n",
    "random_number = random.randint(1, 10)\n",
    "\n",
    "game_num = 0\n",
    "while play_again == 'yes' or play_again == 'Yes':\n",
    "    number_of_tries = 1\n",
    "    game_times['game_'+str(game_num)] = game_num\n",
    "    while number_of_tries < 4:\n",
    "        user_guess = input('\\nGo ahead, ' + stats['name'] + ' and guess a number. \\n')\n",
    "        user_guess = int(user_guess)\n",
    "        \n",
    "        if user_guess < random_number:\n",
    "            print('Good try, ' + stats['name'] + ', but you are too low.\\n')\n",
    "            number_of_tries += 1\n",
    "        elif user_guess > random_number:\n",
    "            print('Good try, ' + stats['name'] + ', but you are too high.\\n')\n",
    "            number_of_tries += 1\n",
    "        elif user_guess == random_number:\n",
    "            print('PERFECT, '+ stats['name'] + '! You guessed it. \\n')\n",
    "            game_times['game_'+str(game_num)] = number_of_tries\n",
    "            number_of_tries += 1\n",
    "            break\n",
    "        else: \n",
    "            print(\"I'm sorry, \" + stats['name'] + \". You didn't get it.\\n \")\n",
    "            break\n",
    "            \n",
    "        game_times['game_'+str(game_num)] = number_of_tries   \n",
    "        \n",
    "    print('The number I was thinking of was '+ str(random_number) + \".\\n\")\n",
    "    play_again = input(stats['name'] + ', would you like to play again? ')\n",
    "    game_num += 1\n",
    "    random_number = random.randint(1, 10)\n",
    "\n",
    "print('\\nThank you, '+ stats['name'] +'. It was a pleasure to meet you.' )\n",
    "print('You played the game '+ str(len(game_times))+' times.')\n",
    "\n",
    "if len(game_times) == 0:\n",
    "    print(\"You didn't play the game, so you don't have a score.\")\n",
    "    \n",
    "else:\n",
    "    for num in range(len(game_times)):\n",
    "        print('Your score in game', num, 'was', (game_times['game_'+str(num)]-1),'.')"
   ]
  },
  {
   "cell_type": "code",
   "execution_count": null,
   "metadata": {},
   "outputs": [],
   "source": []
  },
  {
   "cell_type": "code",
   "execution_count": null,
   "metadata": {},
   "outputs": [],
   "source": []
  }
 ],
 "metadata": {
  "kernelspec": {
   "display_name": "Python 3",
   "language": "python",
   "name": "python3"
  },
  "language_info": {
   "codemirror_mode": {
    "name": "ipython",
    "version": 3
   },
   "file_extension": ".py",
   "mimetype": "text/x-python",
   "name": "python",
   "nbconvert_exporter": "python",
   "pygments_lexer": "ipython3",
   "version": "3.7.3"
  },
  "toc": {
   "base_numbering": 1,
   "nav_menu": {},
   "number_sections": true,
   "sideBar": true,
   "skip_h1_title": false,
   "title_cell": "Table of Contents",
   "title_sidebar": "Contents",
   "toc_cell": false,
   "toc_position": {},
   "toc_section_display": true,
   "toc_window_display": false
  },
  "varInspector": {
   "cols": {
    "lenName": 16,
    "lenType": 16,
    "lenVar": 40
   },
   "kernels_config": {
    "python": {
     "delete_cmd_postfix": "",
     "delete_cmd_prefix": "del ",
     "library": "var_list.py",
     "varRefreshCmd": "print(var_dic_list())"
    },
    "r": {
     "delete_cmd_postfix": ") ",
     "delete_cmd_prefix": "rm(",
     "library": "var_list.r",
     "varRefreshCmd": "cat(var_dic_list()) "
    }
   },
   "types_to_exclude": [
    "module",
    "function",
    "builtin_function_or_method",
    "instance",
    "_Feature"
   ],
   "window_display": false
  }
 },
 "nbformat": 4,
 "nbformat_minor": 2
}
