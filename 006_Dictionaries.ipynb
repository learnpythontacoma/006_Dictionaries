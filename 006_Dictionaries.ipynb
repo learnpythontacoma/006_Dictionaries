{
 "cells": [
  {
   "cell_type": "markdown",
   "metadata": {},
   "source": [
    "<img src='graphics/dictionary-390055_640.jpg'>\n",
    "\n",
    "\n",
    "# Lesson 006 - Dictionaries\n",
    "\n",
    "# What is a dictionary?\n",
    "\n",
    "Dictionaries in Python is a data type that lets us organize data as *key-value pairs*. Each *key* is connected to a *value* and you can use a key to access the value associated with that *key*. Is that confusing enough yet? Let's make it easier.\n",
    "\n",
    "A *key-value* pair is a means to store data where a key is given to a value in order to recall that value. Every key is connected to a value in a dictionary, and these are separated by a colon, with every individual key-value pair being separated in a dictionary by a comma. \n",
    "\n",
    "Let's look at the example below. "
   ]
  },
  {
   "cell_type": "code",
   "execution_count": null,
   "metadata": {},
   "outputs": [],
   "source": [
    "capitals = {'USA': 'Washington DC', 'Germany': 'Berlin', 'France': 'Paris', 'China': 'Beijing'}"
   ]
  },
  {
   "cell_type": "markdown",
   "metadata": {},
   "source": [
    "Notice in our example of a dictionary called `capitals`:\n",
    "1. Curly brackets are used in Python to designate a dictionary.\n",
    "1. Within the dictionary, there are two values separated by a colon (:).\n",
    "1. The first value in front of each colon is the *key*.\n",
    "1. The second value following each colon is the *value* associated with that *key*.\n",
    "1. Several key-value pairs are in the dictionary `capitals`, and these pairs are separated by commas.\n",
    "1. You can store as many *key-value* pairs as you would like in a dictionary.\n",
    "\n",
    "In a dictionary, the *key-value* pairs may be in any order. As long as the same *key-value* pairs are in a dictionary when comparing two dictionaries, Python will still see these dissimilarly ordered dictionaries as being equal. That's different from lists or tuples where items are ordered and the order matters.\n",
    "\n",
    "Take a look at the two dictionaries in the next code block. You will see that the order of the *key-value* pairs are different, but both dictionaries contain the same pairs. \n",
    "\n",
    "Go ahead and run the code to see Python's answer to the question of whether these two dictionaries are the same. If they are, Python will return a value of `True`. "
   ]
  },
  {
   "cell_type": "code",
   "execution_count": null,
   "metadata": {},
   "outputs": [],
   "source": [
    "capitals = {'USA': 'Washington DC', 'Germany': 'Berlin', 'France': 'Paris', 'China': 'Beijing'}\n",
    "capitals_1 = {'Germany': 'Berlin', 'USA': 'Washington DC', 'France': 'Paris', 'China': 'Beijing'}\n",
    "capitals == capitals_1"
   ]
  },
  {
   "cell_type": "markdown",
   "metadata": {},
   "source": [
    "If you are a little confused at this point, then consider yourself normal. Understanding and using dictionaries will take practice with dictionaries. \n",
    "\n",
    "# When Would You Use a Dictionary?\n",
    "\n",
    "You would use a dictionary when you want to keep track of information based upon a key that has a similar value. \n",
    "\n",
    "Take a look at the next example of four dictionaries."
   ]
  },
  {
   "cell_type": "code",
   "execution_count": null,
   "metadata": {},
   "outputs": [],
   "source": [
    "bob_dict = {'name':'Bob', 'age': 28, 'gender': 'male', 'partner': 'Carol'}\n",
    "carol_dict = {'name':'Carol', 'age': 26, 'gender': 'female', 'partner': 'Bob'}\n",
    "ted_dict = {'name':'Ted', 'age': 29, 'gender': 'male', 'partner': 'Alice'}\n",
    "alice_dict = {'name':'Alice', 'age': 28, 'gender': 'male', 'partner': 'Ted'}\n",
    "\n",
    "friends = [bob_dict, carol_dict, ted_dict, alice_dict] #<-- Notice the list of dictionaries\n",
    "\n",
    "for a in friends:\n",
    "    for key, value in a.items():\n",
    "        print(key, ':', value)\n",
    "    print('\\n')"
   ]
  },
  {
   "cell_type": "markdown",
   "metadata": {},
   "source": [
    "# Accessing Values in a Dictionary\n",
    "\n",
    "How do we access values in a list? We use a number (in square brackets) as our index. For example: "
   ]
  },
  {
   "cell_type": "code",
   "execution_count": null,
   "metadata": {},
   "outputs": [],
   "source": [
    "animals = ['cat', 'dog', 'elephant']\n",
    "my_animal = animals[1]\n",
    "print(my_animal)"
   ]
  },
  {
   "cell_type": "markdown",
   "metadata": {},
   "source": [
    "With dictionaries we can use strings to access values. Let's look at the syntax below. "
   ]
  },
  {
   "cell_type": "code",
   "execution_count": null,
   "metadata": {},
   "outputs": [],
   "source": [
    "my_cat = {'name': 'Kristina', 'age': 3, 'color': 'black'}\n",
    "cat_name = my_cat['name']\n",
    "print(cat_name)"
   ]
  },
  {
   "cell_type": "markdown",
   "metadata": {},
   "source": [
    "Key-value pairs is what gives dictionaries the advantage over lists. If you need to access a specific item and you don't know the order of the items, you can simply use its name to call out the value."
   ]
  },
  {
   "cell_type": "markdown",
   "metadata": {},
   "source": [
    "But if the order of the items is important, that's where you would use lists. "
   ]
  },
  {
   "cell_type": "markdown",
   "metadata": {},
   "source": [
    "## Exercise 1"
   ]
  },
  {
   "cell_type": "markdown",
   "metadata": {},
   "source": [
    "Here is a dictionary of cities and their populations. Store the population of Washington DC in a variable and print it out."
   ]
  },
  {
   "cell_type": "code",
   "execution_count": null,
   "metadata": {},
   "outputs": [],
   "source": [
    "cities = {'New York': 8398748, 'Los Angeles': 3990456, 'Chicago': 2705994, 'Washington DC': 702455, 'Boston': 694583}\n"
   ]
  },
  {
   "cell_type": "markdown",
   "metadata": {},
   "source": [
    "# Adding Values to a Dictionary"
   ]
  },
  {
   "cell_type": "markdown",
   "metadata": {},
   "source": [
    "To add a key-value pair to a dictionary, you tell Python the name of the key and the value it should have. If the key is already there, it will replace the existing value. If the key is not yet there, it will add a brand-new key-value pair to the dictionary."
   ]
  },
  {
   "cell_type": "code",
   "execution_count": null,
   "metadata": {},
   "outputs": [],
   "source": [
    "my_cat = {'name': 'Kristina', 'age': 3, 'color': 'black'}\n",
    "my_cat['age'] = 4\n",
    "print (my_cat)"
   ]
  },
  {
   "cell_type": "code",
   "execution_count": null,
   "metadata": {},
   "outputs": [],
   "source": [
    "my_cat = {'name': 'Kristina', 'age': 3, 'color': 'black'}\n",
    "my_cat['disposition'] = 'friendly'\n",
    "print (my_cat)"
   ]
  },
  {
   "cell_type": "markdown",
   "metadata": {},
   "source": [
    "## Exercise 2\n",
    "\n",
    "Starting out with an empty dictionary, add you first and last names to it. Create another dictionary with your friend's first and last names. Then, create a list of your dictionaries (Remember, you can store any values inside lists, even dictionaries). Print out your list."
   ]
  },
  {
   "cell_type": "code",
   "execution_count": null,
   "metadata": {},
   "outputs": [],
   "source": [
    "person1 = {}\n",
    "#Add your first name as a value to a key 'first'\n",
    "\n",
    "\n",
    "#Add your last name as a value to a key 'last'\n",
    "\n",
    "\n",
    "print(person1)\n",
    "\n",
    "\n",
    "#Add your friend's first name as a value to a key 'first'\n",
    "person2 = {}\n",
    "\n",
    "\n",
    "\n",
    "#Add your friend's last name as a value to a key 'last' \n",
    "\n",
    "\n",
    "\n",
    "\n",
    "print(person2)\n",
    "\n",
    "#Create a list with your dictionaries. \n",
    "\n"
   ]
  },
  {
   "cell_type": "markdown",
   "metadata": {},
   "source": [
    "Add another person to your company of friends."
   ]
  },
  {
   "cell_type": "code",
   "execution_count": null,
   "metadata": {},
   "outputs": [],
   "source": [
    "#Use .append method to add items to your list.\n"
   ]
  },
  {
   "cell_type": "markdown",
   "metadata": {},
   "source": [
    "# The keys(), values(), and items() Methods"
   ]
  },
  {
   "cell_type": "markdown",
   "metadata": {},
   "source": [
    "Depending on what information in a dictionary you'd like to access, use any of these three methods: keys(), values(), items()."
   ]
  },
  {
   "cell_type": "code",
   "execution_count": null,
   "metadata": {},
   "outputs": [],
   "source": [
    "countries = {'Russia': 'Russian', 'Spain': 'Spanish', 'Germany': 'German'}\n",
    "for c in countries.keys():\n",
    "    print(c)"
   ]
  },
  {
   "cell_type": "code",
   "execution_count": null,
   "metadata": {},
   "outputs": [],
   "source": [
    "countries = {'Russia': 'Russian', 'Spain': 'Spanish', 'Germany': 'German'}\n",
    "for c in countries.values():\n",
    "    print(c)"
   ]
  },
  {
   "cell_type": "code",
   "execution_count": null,
   "metadata": {},
   "outputs": [],
   "source": [
    "countries = {'Russia': 'Russian', 'Spain': 'Spanish', 'Germany': 'German'}\n",
    "for c in countries.items():\n",
    "    print(c)"
   ]
  },
  {
   "cell_type": "markdown",
   "metadata": {},
   "source": [
    "\n",
    "# Preparing to Put It All Together\n",
    "\n",
    "## Exercise 3\n",
    "\n",
    "1. Create your own dictionary with the names of countries as keys and languages spoken there as values. \n",
    "1. Ask a user to enter a country (hint: use input() function). \n",
    "1. If the country is in the dictionary, print 'They speak ' + language + ' in' + country. \n",
    "1. If the country is not in the dictionary, print a message: 'The information is not available.'"
   ]
  },
  {
   "cell_type": "code",
   "execution_count": null,
   "metadata": {},
   "outputs": [],
   "source": [
    "\n"
   ]
  },
  {
   "cell_type": "markdown",
   "metadata": {},
   "source": [
    "Continue with the code you wrote above. \n",
    "1. If the country is not in the dictionary, ask the user what language people speak there. \n",
    "1. Then, update the dictionary with this new information."
   ]
  },
  {
   "cell_type": "code",
   "execution_count": null,
   "metadata": {},
   "outputs": [],
   "source": [
    "\n",
    "\n"
   ]
  },
  {
   "cell_type": "markdown",
   "metadata": {},
   "source": [
    "# Now Let's Put It All Together\n",
    "\n",
    "## Exercise 4\n",
    "In our last meet-up, we produced our first game, \"The Guessing Game\". Here is a key code sample for that game. "
   ]
  },
  {
   "cell_type": "code",
   "execution_count": null,
   "metadata": {},
   "outputs": [],
   "source": [
    "import random\n",
    "\n",
    "user_name = input('Well, Hello! What is your name? ')\n",
    "print('\\nI am excited to play \"The Guessing Game\". I will think of a random number between 1-10,')\n",
    "print('then I will give you three tries to guess the number. To be fair, I will tell you if')\n",
    "print('the number you guessed is higher or lower than the number of which I am thinking.\\n ')\n",
    "\n",
    "play_again = input(user_name +', would you like to play \"The Guessing Game\"? yes or no ')\n",
    "\n",
    "random_number = random.randint(1, 10)\n",
    "\n",
    "\n",
    "while play_again == 'yes' or play_again == 'Yes':\n",
    "    number_of_tries = 0\n",
    "\n",
    "    while number_of_tries < 3:\n",
    "        user_guess = input('\\nGo ahead, ' + user_name + ' and guess a number. \\n')\n",
    "        user_guess = int(user_guess)\n",
    "        \n",
    "        if user_guess < random_number:\n",
    "            print('Good try, ' + user_name + ', but you are too low.\\n')\n",
    "            number_of_tries += 1\n",
    "        elif user_guess > random_number:\n",
    "            print('Good try, ' + user_name + ', but you are too high.\\n')\n",
    "            number_of_tries += 1\n",
    "        elif user_guess == random_number:\n",
    "            print('PERFECT, '+ user_name + '! You guessed it. \\n')\n",
    "            number_of_tries += 1\n",
    "            break\n",
    "        else: \n",
    "            print(\"I'm sorry, \" + user_name + \". You didn't get it.\\n \")\n",
    "            break\n",
    "            \n",
    "        \n",
    "    print('The number I was thinking of was '+ str(random_number) + \".\\n\")\n",
    "    play_again = input(user_name + ', would you like to play again? ')\n",
    "    random_number = random.randint(1, 10)\n",
    "\n",
    "print('\\nThank you, '+ user_name +'. It was a pleasure to meet you.' )"
   ]
  },
  {
   "cell_type": "markdown",
   "metadata": {},
   "source": [
    "From what we have learned of dictionaries, we are going to expand our game. \n",
    "\n",
    "In the second block, write the code for the game AND\n",
    "1. Add the person's name to a dictionary\n",
    "1. Use a dictionary to keep track of how many times the person has played the game\n",
    "1. Use a dictionary to keep track of the person's score for each game\n",
    "1. After the person has decided to quit playing, return that information to them"
   ]
  },
  {
   "cell_type": "code",
   "execution_count": null,
   "metadata": {},
   "outputs": [],
   "source": [
    "#Run this code after looking at it. It may help you.\n",
    "\n",
    "trial = {}\n",
    "\n",
    "for num in range(1,4):\n",
    "    trial['game_'+str(num)] = num\n",
    "print(trial)   \n",
    "print(len(trial))"
   ]
  },
  {
   "cell_type": "code",
   "execution_count": null,
   "metadata": {
    "scrolled": false
   },
   "outputs": [],
   "source": []
  },
  {
   "cell_type": "code",
   "execution_count": null,
   "metadata": {},
   "outputs": [],
   "source": []
  },
  {
   "cell_type": "code",
   "execution_count": null,
   "metadata": {},
   "outputs": [],
   "source": []
  }
 ],
 "metadata": {
  "kernelspec": {
   "display_name": "Python 3",
   "language": "python",
   "name": "python3"
  },
  "language_info": {
   "codemirror_mode": {
    "name": "ipython",
    "version": 3
   },
   "file_extension": ".py",
   "mimetype": "text/x-python",
   "name": "python",
   "nbconvert_exporter": "python",
   "pygments_lexer": "ipython3",
   "version": "3.7.3"
  },
  "toc": {
   "base_numbering": 1,
   "nav_menu": {},
   "number_sections": true,
   "sideBar": true,
   "skip_h1_title": false,
   "title_cell": "Table of Contents",
   "title_sidebar": "Contents",
   "toc_cell": false,
   "toc_position": {},
   "toc_section_display": true,
   "toc_window_display": true
  },
  "varInspector": {
   "cols": {
    "lenName": 16,
    "lenType": 16,
    "lenVar": 40
   },
   "kernels_config": {
    "python": {
     "delete_cmd_postfix": "",
     "delete_cmd_prefix": "del ",
     "library": "var_list.py",
     "varRefreshCmd": "print(var_dic_list())"
    },
    "r": {
     "delete_cmd_postfix": ") ",
     "delete_cmd_prefix": "rm(",
     "library": "var_list.r",
     "varRefreshCmd": "cat(var_dic_list()) "
    }
   },
   "types_to_exclude": [
    "module",
    "function",
    "builtin_function_or_method",
    "instance",
    "_Feature"
   ],
   "window_display": false
  }
 },
 "nbformat": 4,
 "nbformat_minor": 2
}
